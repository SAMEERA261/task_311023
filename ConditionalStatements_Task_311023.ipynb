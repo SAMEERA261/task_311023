{
 "cells": [
  {
   "cell_type": "markdown",
   "id": "4c1e2650",
   "metadata": {},
   "source": [
    "## MANDATORY TASK:\n",
    "### Conditional statements problems:\n",
    "\n",
    "1. Write a Python program that asks the user for their age and prints \"You are an adult\" if the age is 18 or older, otherwise prints \"You are a minor'."
   ]
  },
  {
   "cell_type": "code",
   "execution_count": 43,
   "id": "b74e2618",
   "metadata": {},
   "outputs": [
    {
     "name": "stdout",
     "output_type": "stream",
     "text": [
      "Enter your age: 24\n",
      "You are an adult.\n"
     ]
    }
   ],
   "source": [
    "age = int(input(\"Enter your age: \"))# user need to type the age\n",
    "\n",
    "# Check if the user is an adult or a minor\n",
    "if age >= 18: # Check if the user is an adult or a minor\n",
    "    print(\"You are an adult.\")\n",
    "else:#if your age is above 18 years then you are considered as adult.\n",
    "    print(\"You are a minor.\")"
   ]
  },
  {
   "cell_type": "markdown",
   "id": "8af44952",
   "metadata": {},
   "source": [
    "2. Write a program that takes a numerical grade (out of 100) as input and prints the corresponding letter grade according to the following scale:\n",
    "   90-100: A\n",
    "   80-89: B\n",
    "   70-79: C\n",
    "   60-69: D\n",
    "   Below 60: F\n"
   ]
  },
  {
   "cell_type": "code",
   "execution_count": 18,
   "id": "3501a036",
   "metadata": {},
   "outputs": [
    {
     "name": "stdout",
     "output_type": "stream",
     "text": [
      "Enter your marks out of 100 : 90\n",
      "A\n"
     ]
    }
   ],
   "source": [
    "score=float(input(\"Enter your marks out of 100 : \"))#user will enter the marks thsat need to be shown as grades\n",
    "if score >100:#will see if the user enters numbers above 100 then output will be to enter the correct number \n",
    "    print('enter number (out 100)')\n",
    "elif 90<=score<=100:# here the condition will be if the score is less than 100 and greter than 90 than it will print 'A'\n",
    "    print('A')\n",
    "elif 80<=score<=89:# here the condition will be if the score is less than 89 and greter than 80 than it will print 'B'\n",
    "    print('B')\n",
    "elif 70<=score<=79:# here the condition will be if the score is less than 79 and greter than 70 than it will print 'c'\n",
    "    print('C')\n",
    "elif 60<=score<=69:# here the condition will be if the score is less than 69 and greter than 60 than it will print 'D'\n",
    "    print('D')\n",
    "else:#if the total conditions couldnt accept the given marks then it will print 'F'\n",
    "    print('F')    \n"
   ]
  },
  {
   "cell_type": "markdown",
   "id": "7452c387",
   "metadata": {},
   "source": [
    "3. Write a program that calculates the Body Mass Index (BMI) of a person. The user should input their weight in kilograms and height in meters. The program should then print whether the person is underweight, normal weight, overweight, or obese.\n"
   ]
  },
  {
   "cell_type": "code",
   "execution_count": 27,
   "id": "f042744d",
   "metadata": {},
   "outputs": [
    {
     "name": "stdout",
     "output_type": "stream",
     "text": [
      "your weight in kg : 15\n",
      "your height in cm :155\n",
      "the BMI of a person whose weight and height are  15 and 155.0 respectively is 0.0006243496357960458\n",
      "underweight\n"
     ]
    }
   ],
   "source": [
    "weight=int(input('your weight in kg : '))\n",
    "height=float(input('your height in cm :'))\n",
    "BMI=weight/ height**2   #bmi formula\n",
    "format=print(f'the BMI of a person whose weight and height are  {weight} and {height} respectively is {BMI}')\n",
    "if BMI<18.5:     #it checks directly bmi value       \n",
    "    print('underweight')\n",
    "elif BMI>=18.5 and z<24: #using and \n",
    "    print('normal weight')\n",
    "elif BMI==25 and z<=29.9:\n",
    "    print('over weight')\n",
    "else:\n",
    "    print('obesity')"
   ]
  },
  {
   "cell_type": "markdown",
   "id": "e3e6e6c9",
   "metadata": {},
   "source": [
    "4. Write a program that asks the user for three numbers and prints the maximum of the three"
   ]
  },
  {
   "cell_type": "code",
   "execution_count": 29,
   "id": "8844ddfb",
   "metadata": {},
   "outputs": [
    {
     "name": "stdout",
     "output_type": "stream",
     "text": [
      "enter first number :15\n",
      "enter second number :08\n",
      "enter third number :2022\n",
      "Third number is Highest 2022\n"
     ]
    }
   ],
   "source": [
    "x=int(input('enter first number :'))\n",
    "y=int(input('enter second number :'))\n",
    "z=int(input('enter third number :'))\n",
    "if x>y and x>z:\n",
    "    print('first number is highest',(x))  \n",
    "elif y>x and y>z:\n",
    "    print('Second NUmber is highest',(y))\n",
    "else:\n",
    "    print('Third number is Highest',(z))\n",
    "    \n",
    "    "
   ]
  },
  {
   "cell_type": "markdown",
   "id": "adb93a0c",
   "metadata": {},
   "source": [
    "5. Write a program that asks the user for a temperature (in Celsius) and prints \"It's freezing\" if the temperature is below 0, \"It's cool\" if it's between 0 and 10, \"It's warm\" if it's between 10 and 20, and \"It's hot\" if it's above 20"
   ]
  },
  {
   "cell_type": "code",
   "execution_count": 30,
   "id": "dce8f971",
   "metadata": {},
   "outputs": [
    {
     "name": "stdout",
     "output_type": "stream",
     "text": [
      "Enter the temperature in Celsius: 15\n",
      "It's warm.\n"
     ]
    }
   ],
   "source": [
    "temperature = float(input(\"Enter the temperature in Celsius: \"))\n",
    "\n",
    "\n",
    "if temperature < 0: # Check and print the corresponding message\n",
    "    print(\"It's freezing.\")\n",
    "elif 0 <= temperature<= 10:\n",
    "    print(\"It's cool.\")\n",
    "elif 10 < temperature<= 20:\n",
    "    print(\"It's warm.\")\n",
    "else:\n",
    "    print(\"It's hot.\")"
   ]
  },
  {
   "cell_type": "markdown",
   "id": "091643f4",
   "metadata": {},
   "source": [
    "6. Write a program that asks the user for a number (1-7) and prints the corresponding day of the week."
   ]
  },
  {
   "cell_type": "code",
   "execution_count": 35,
   "id": "1cac2d5f",
   "metadata": {},
   "outputs": [
    {
     "name": "stdout",
     "output_type": "stream",
     "text": [
      "please enter the number (1-7)5\n",
      "friday\n"
     ]
    }
   ],
   "source": [
    "days=int(input('please enter the number (1-7)'))\n",
    "\n",
    "if days==1:\n",
    "    print(\"Monday\")\n",
    "elif days==2:\n",
    "    print(\"Tuesday\")\n",
    "elif days==3:\n",
    "    print(\"wednesday\")\n",
    "elif days==4:\n",
    "    print(\"Thursday\")\n",
    "elif days==5:\n",
    "    print(\"friday\")\n",
    "elif days==6:\n",
    "    print(\"saturday\")\n",
    "elif days==7:\n",
    "    print(\"sunday\")\n",
    "else: \n",
    "    print(\"please enter valid number\")"
   ]
  },
  {
   "cell_type": "markdown",
   "id": "9cbe27b6",
   "metadata": {},
   "source": [
    "7. Write a program that asks the user for a number and prints \"In range\" if the number is between 10 and 20 (inclusive), and \"Out of range\" otherwise.\n"
   ]
  },
  {
   "cell_type": "code",
   "execution_count": 37,
   "id": "25f65bb6",
   "metadata": {
    "scrolled": true
   },
   "outputs": [
    {
     "name": "stdout",
     "output_type": "stream",
     "text": [
      "Enter a number: 45\n",
      "Out of range.\n"
     ]
    }
   ],
   "source": [
    "number = float(input(\"Enter a number: \"))\n",
    "if 10 <= number <= 20: # Check if the number is in the specified range\n",
    "    print(\"In range.\")\n",
    "else:\n",
    "    print(\"Out of range.\")"
   ]
  },
  {
   "cell_type": "markdown",
   "id": "1066ae04",
   "metadata": {},
   "source": [
    "8. Write a program that asks the user for an integer and prints whether it's even or odd"
   ]
  },
  {
   "cell_type": "code",
   "execution_count": 38,
   "id": "7e70b05b",
   "metadata": {},
   "outputs": [
    {
     "name": "stdout",
     "output_type": "stream",
     "text": [
      "Enter an integer: 2\n",
      "Even.\n"
     ]
    }
   ],
   "source": [
    "integer = int(input(\"Enter an integer: \"))\n",
    "if integer % 2 == 0:# Check if the number is even or odd\n",
    "    print(\"Even.\")\n",
    "else:\n",
    "    print(\"Odd.\")"
   ]
  },
  {
   "cell_type": "markdown",
   "id": "35c73c77",
   "metadata": {},
   "source": [
    "9.  Write a Python program to add 'ing' at the end of a given string (string length should be equal to or more than 3). If the given string already ends with 'ing' then add 'ly' instead.If the string length of the given string is less than 3, leave it unchanged\n"
   ]
  },
  {
   "cell_type": "code",
   "execution_count": 42,
   "id": "8b9aac2d",
   "metadata": {},
   "outputs": [
    {
     "name": "stdout",
     "output_type": "stream",
     "text": [
      "Enter a string: suffering\n",
      "sufferingly\n"
     ]
    }
   ],
   "source": [
    "string = input(\"Enter a string: \")\n",
    "if len(string) >= 3: # Check the length of the string and modify accordingly\n",
    "    if string.endswith(\"ing\"):#here the condition is applies\n",
    "        print(string + \"ly\")#here the concatination of string based on the string\n",
    "    else:\n",
    "        print(string + \"ing\") \n",
    "else:\n",
    "    print(string)#its an nested if statement"
   ]
  }
 ],
 "metadata": {
  "kernelspec": {
   "display_name": "Python 3 (ipykernel)",
   "language": "python",
   "name": "python3"
  },
  "language_info": {
   "codemirror_mode": {
    "name": "ipython",
    "version": 3
   },
   "file_extension": ".py",
   "mimetype": "text/x-python",
   "name": "python",
   "nbconvert_exporter": "python",
   "pygments_lexer": "ipython3",
   "version": "3.11.5"
  }
 },
 "nbformat": 4,
 "nbformat_minor": 5
}
